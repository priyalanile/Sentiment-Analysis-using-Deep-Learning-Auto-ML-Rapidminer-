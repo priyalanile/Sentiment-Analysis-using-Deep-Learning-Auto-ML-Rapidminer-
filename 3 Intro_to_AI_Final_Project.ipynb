{
 "cells": [
  {
   "cell_type": "markdown",
   "metadata": {},
   "source": [
    "# <center> Sentiment Analysis Using Deep Learning:</center>\n",
    "#### Intro to AI & It's Application in Business:\n",
    "*@Author: Priyal A Nile(pan303)"
   ]
  },
  {
   "cell_type": "code",
   "execution_count": 93,
   "metadata": {},
   "outputs": [],
   "source": [
    "#Importing all the necessary libraries:\n",
    "import numpy as np\n",
    "import pandas as pd\n",
    "import seaborn as sns\n",
    "from sklearn.linear_model import LogisticRegression\n",
    "from sklearn import metrics\n",
    "from sklearn.model_selection import train_test_split\n",
    "from sklearn.feature_extraction.text import CountVectorizer\n",
    "from sklearn.feature_extraction.text import TfidfVectorizer\n",
    "import pandas as pd\n",
    "from matplotlib import pyplot as plt"
   ]
  },
  {
   "cell_type": "code",
   "execution_count": 94,
   "metadata": {},
   "outputs": [],
   "source": [
    "import re # regex for text cleaning\n",
    "import nltk # natural language processing tool kit\n",
    "import pickle # for saving/serializing machine learning models\n",
    "import nlpaug.augmenter.word as naw\n",
    "import plotly.graph_objects as go # Plotly for interactive data visualizatoins"
   ]
  },
  {
   "cell_type": "code",
   "execution_count": 95,
   "metadata": {},
   "outputs": [],
   "source": [
    "# neural networks and embeddings stuff\n",
    "from keras.preprocessing.text import Tokenizer\n",
    "from keras.preprocessing.sequence import pad_sequences\n",
    "from keras.models import Sequential\n",
    "from keras.layers import Dense, Flatten, Dropout, Activation\n",
    "from keras.layers.embeddings import Embedding"
   ]
  },
  {
   "cell_type": "code",
   "execution_count": 96,
   "metadata": {},
   "outputs": [],
   "source": [
    "from nltk.stem import WordNetLemmatizer # lemmatizing tool\n",
    "from sklearn.feature_extraction.text import TfidfVectorizer # tfidf for text representation\n",
    "from sklearn.model_selection import train_test_split # for data splitting\n",
    "from sklearn.metrics import classification_report, confusion_matrix, accuracy_score # for classifier evaluation\n",
    "from sklearn.ensemble import RandomForestClassifier # random forest machine learning model\n",
    "#pip install nlpaug\n",
    "#pip install nltk"
   ]
  },
  {
   "cell_type": "code",
   "execution_count": 97,
   "metadata": {},
   "outputs": [],
   "source": [
    "#Loading the Data:\n",
    "data_path = 'C:/Users/priya/Downloads/Intro_to_AI_Project/Final_Project/Tweets_Original_AI.csv'\n",
    "#Train_Data:\n",
    "df_tweets = pd.read_csv(data_path)"
   ]
  },
  {
   "cell_type": "code",
   "execution_count": 98,
   "metadata": {},
   "outputs": [
    {
     "data": {
      "text/plain": [
       "(14493, 34)"
      ]
     },
     "execution_count": 98,
     "metadata": {},
     "output_type": "execute_result"
    }
   ],
   "source": [
    "df_tweets.shape"
   ]
  },
  {
   "cell_type": "code",
   "execution_count": 99,
   "metadata": {},
   "outputs": [
    {
     "data": {
      "text/html": [
       "<div>\n",
       "<style scoped>\n",
       "    .dataframe tbody tr th:only-of-type {\n",
       "        vertical-align: middle;\n",
       "    }\n",
       "\n",
       "    .dataframe tbody tr th {\n",
       "        vertical-align: top;\n",
       "    }\n",
       "\n",
       "    .dataframe thead th {\n",
       "        text-align: right;\n",
       "    }\n",
       "</style>\n",
       "<table border=\"1\" class=\"dataframe\">\n",
       "  <thead>\n",
       "    <tr style=\"text-align: right;\">\n",
       "      <th></th>\n",
       "      <th>sentiment</th>\n",
       "      <th>text</th>\n",
       "      <th>processed_text</th>\n",
       "      <th>length</th>\n",
       "      <th>1_word</th>\n",
       "      <th>2_word</th>\n",
       "      <th>3_word</th>\n",
       "      <th>4_word</th>\n",
       "      <th>5_word</th>\n",
       "      <th>6_word</th>\n",
       "      <th>...</th>\n",
       "      <th>21_word</th>\n",
       "      <th>22_word</th>\n",
       "      <th>23_word</th>\n",
       "      <th>24_word</th>\n",
       "      <th>25_word</th>\n",
       "      <th>26_word</th>\n",
       "      <th>27_word</th>\n",
       "      <th>28_word</th>\n",
       "      <th>29_word</th>\n",
       "      <th>30_word</th>\n",
       "    </tr>\n",
       "  </thead>\n",
       "  <tbody>\n",
       "    <tr>\n",
       "      <td>0</td>\n",
       "      <td>0</td>\n",
       "      <td>@VirginAmerica What @dhepburn said.</td>\n",
       "      <td>@virginamerica what @dhepburn said</td>\n",
       "      <td>4</td>\n",
       "      <td>13634</td>\n",
       "      <td>2106</td>\n",
       "      <td>10268</td>\n",
       "      <td>11928</td>\n",
       "      <td>0</td>\n",
       "      <td>0</td>\n",
       "      <td>...</td>\n",
       "      <td>0</td>\n",
       "      <td>0</td>\n",
       "      <td>0</td>\n",
       "      <td>0</td>\n",
       "      <td>0</td>\n",
       "      <td>0</td>\n",
       "      <td>0</td>\n",
       "      <td>0</td>\n",
       "      <td>0</td>\n",
       "      <td>0</td>\n",
       "    </tr>\n",
       "    <tr>\n",
       "      <td>1</td>\n",
       "      <td>1</td>\n",
       "      <td>@VirginAmerica plus you've added commercials t...</td>\n",
       "      <td>@virginamerica plus youve added commercials to...</td>\n",
       "      <td>9</td>\n",
       "      <td>13634</td>\n",
       "      <td>1715</td>\n",
       "      <td>5248</td>\n",
       "      <td>7030</td>\n",
       "      <td>8653</td>\n",
       "      <td>4463</td>\n",
       "      <td>...</td>\n",
       "      <td>0</td>\n",
       "      <td>0</td>\n",
       "      <td>0</td>\n",
       "      <td>0</td>\n",
       "      <td>0</td>\n",
       "      <td>0</td>\n",
       "      <td>0</td>\n",
       "      <td>0</td>\n",
       "      <td>0</td>\n",
       "      <td>0</td>\n",
       "    </tr>\n",
       "    <tr>\n",
       "      <td>2</td>\n",
       "      <td>0</td>\n",
       "      <td>@VirginAmerica I didn't today... Must mean I n...</td>\n",
       "      <td>@virginamerica i didnt today must mean i need ...</td>\n",
       "      <td>12</td>\n",
       "      <td>13634</td>\n",
       "      <td>8075</td>\n",
       "      <td>2858</td>\n",
       "      <td>2834</td>\n",
       "      <td>5694</td>\n",
       "      <td>10500</td>\n",
       "      <td>...</td>\n",
       "      <td>0</td>\n",
       "      <td>0</td>\n",
       "      <td>0</td>\n",
       "      <td>0</td>\n",
       "      <td>0</td>\n",
       "      <td>0</td>\n",
       "      <td>0</td>\n",
       "      <td>0</td>\n",
       "      <td>0</td>\n",
       "      <td>0</td>\n",
       "    </tr>\n",
       "    <tr>\n",
       "      <td>3</td>\n",
       "      <td>-1</td>\n",
       "      <td>@VirginAmerica it's really aggressive to blast...</td>\n",
       "      <td>@virginamerica its really aggressive to blast ...</td>\n",
       "      <td>17</td>\n",
       "      <td>13634</td>\n",
       "      <td>9067</td>\n",
       "      <td>4484</td>\n",
       "      <td>2406</td>\n",
       "      <td>4463</td>\n",
       "      <td>12531</td>\n",
       "      <td>...</td>\n",
       "      <td>0</td>\n",
       "      <td>0</td>\n",
       "      <td>0</td>\n",
       "      <td>0</td>\n",
       "      <td>0</td>\n",
       "      <td>0</td>\n",
       "      <td>0</td>\n",
       "      <td>0</td>\n",
       "      <td>0</td>\n",
       "      <td>0</td>\n",
       "    </tr>\n",
       "    <tr>\n",
       "      <td>4</td>\n",
       "      <td>-1</td>\n",
       "      <td>@VirginAmerica and it's a really big bad thing...</td>\n",
       "      <td>@virginamerica and its a really big bad thing ...</td>\n",
       "      <td>10</td>\n",
       "      <td>13634</td>\n",
       "      <td>6149</td>\n",
       "      <td>9067</td>\n",
       "      <td>15211</td>\n",
       "      <td>4484</td>\n",
       "      <td>4383</td>\n",
       "      <td>...</td>\n",
       "      <td>0</td>\n",
       "      <td>0</td>\n",
       "      <td>0</td>\n",
       "      <td>0</td>\n",
       "      <td>0</td>\n",
       "      <td>0</td>\n",
       "      <td>0</td>\n",
       "      <td>0</td>\n",
       "      <td>0</td>\n",
       "      <td>0</td>\n",
       "    </tr>\n",
       "    <tr>\n",
       "      <td>...</td>\n",
       "      <td>...</td>\n",
       "      <td>...</td>\n",
       "      <td>...</td>\n",
       "      <td>...</td>\n",
       "      <td>...</td>\n",
       "      <td>...</td>\n",
       "      <td>...</td>\n",
       "      <td>...</td>\n",
       "      <td>...</td>\n",
       "      <td>...</td>\n",
       "      <td>...</td>\n",
       "      <td>...</td>\n",
       "      <td>...</td>\n",
       "      <td>...</td>\n",
       "      <td>...</td>\n",
       "      <td>...</td>\n",
       "      <td>...</td>\n",
       "      <td>...</td>\n",
       "      <td>...</td>\n",
       "      <td>...</td>\n",
       "      <td>...</td>\n",
       "    </tr>\n",
       "    <tr>\n",
       "      <td>14488</td>\n",
       "      <td>-1</td>\n",
       "      <td>@AmericanAir right on cue with the delays👌</td>\n",
       "      <td>@americanair right on cue with the delays👌</td>\n",
       "      <td>7</td>\n",
       "      <td>9495</td>\n",
       "      <td>9949</td>\n",
       "      <td>11725</td>\n",
       "      <td>7411</td>\n",
       "      <td>15964</td>\n",
       "      <td>1903</td>\n",
       "      <td>...</td>\n",
       "      <td>0</td>\n",
       "      <td>0</td>\n",
       "      <td>0</td>\n",
       "      <td>0</td>\n",
       "      <td>0</td>\n",
       "      <td>0</td>\n",
       "      <td>0</td>\n",
       "      <td>0</td>\n",
       "      <td>0</td>\n",
       "      <td>0</td>\n",
       "    </tr>\n",
       "    <tr>\n",
       "      <td>14489</td>\n",
       "      <td>1</td>\n",
       "      <td>@AmericanAir thank you we got on a different f...</td>\n",
       "      <td>@americanair thank you we got on a different f...</td>\n",
       "      <td>11</td>\n",
       "      <td>9495</td>\n",
       "      <td>2993</td>\n",
       "      <td>6926</td>\n",
       "      <td>7011</td>\n",
       "      <td>15836</td>\n",
       "      <td>11725</td>\n",
       "      <td>...</td>\n",
       "      <td>0</td>\n",
       "      <td>0</td>\n",
       "      <td>0</td>\n",
       "      <td>0</td>\n",
       "      <td>0</td>\n",
       "      <td>0</td>\n",
       "      <td>0</td>\n",
       "      <td>0</td>\n",
       "      <td>0</td>\n",
       "      <td>0</td>\n",
       "    </tr>\n",
       "    <tr>\n",
       "      <td>14490</td>\n",
       "      <td>-1</td>\n",
       "      <td>@AmericanAir leaving over 20 minutes Late Flig...</td>\n",
       "      <td>@americanair leaving over 20 minutes late flig...</td>\n",
       "      <td>23</td>\n",
       "      <td>9495</td>\n",
       "      <td>8068</td>\n",
       "      <td>16020</td>\n",
       "      <td>10412</td>\n",
       "      <td>5264</td>\n",
       "      <td>4223</td>\n",
       "      <td>...</td>\n",
       "      <td>648</td>\n",
       "      <td>12420</td>\n",
       "      <td>2901</td>\n",
       "      <td>0</td>\n",
       "      <td>0</td>\n",
       "      <td>0</td>\n",
       "      <td>0</td>\n",
       "      <td>0</td>\n",
       "      <td>0</td>\n",
       "      <td>0</td>\n",
       "    </tr>\n",
       "    <tr>\n",
       "      <td>14491</td>\n",
       "      <td>0</td>\n",
       "      <td>@AmericanAir Please bring American Airlines to...</td>\n",
       "      <td>@americanair please bring american airlines to...</td>\n",
       "      <td>7</td>\n",
       "      <td>9495</td>\n",
       "      <td>9826</td>\n",
       "      <td>949</td>\n",
       "      <td>702</td>\n",
       "      <td>6794</td>\n",
       "      <td>4463</td>\n",
       "      <td>...</td>\n",
       "      <td>0</td>\n",
       "      <td>0</td>\n",
       "      <td>0</td>\n",
       "      <td>0</td>\n",
       "      <td>0</td>\n",
       "      <td>0</td>\n",
       "      <td>0</td>\n",
       "      <td>0</td>\n",
       "      <td>0</td>\n",
       "      <td>0</td>\n",
       "    </tr>\n",
       "    <tr>\n",
       "      <td>14492</td>\n",
       "      <td>-1</td>\n",
       "      <td>@AmericanAir you have my money, you change my ...</td>\n",
       "      <td>@americanair you have my money you change my f...</td>\n",
       "      <td>23</td>\n",
       "      <td>9495</td>\n",
       "      <td>6926</td>\n",
       "      <td>10010</td>\n",
       "      <td>9040</td>\n",
       "      <td>4231</td>\n",
       "      <td>6926</td>\n",
       "      <td>...</td>\n",
       "      <td>7304</td>\n",
       "      <td>9040</td>\n",
       "      <td>3146</td>\n",
       "      <td>0</td>\n",
       "      <td>0</td>\n",
       "      <td>0</td>\n",
       "      <td>0</td>\n",
       "      <td>0</td>\n",
       "      <td>0</td>\n",
       "      <td>0</td>\n",
       "    </tr>\n",
       "  </tbody>\n",
       "</table>\n",
       "<p>14493 rows × 34 columns</p>\n",
       "</div>"
      ],
      "text/plain": [
       "       sentiment                                               text  \\\n",
       "0              0                @VirginAmerica What @dhepburn said.   \n",
       "1              1  @VirginAmerica plus you've added commercials t...   \n",
       "2              0  @VirginAmerica I didn't today... Must mean I n...   \n",
       "3             -1  @VirginAmerica it's really aggressive to blast...   \n",
       "4             -1  @VirginAmerica and it's a really big bad thing...   \n",
       "...          ...                                                ...   \n",
       "14488         -1         @AmericanAir right on cue with the delays👌   \n",
       "14489          1  @AmericanAir thank you we got on a different f...   \n",
       "14490         -1  @AmericanAir leaving over 20 minutes Late Flig...   \n",
       "14491          0  @AmericanAir Please bring American Airlines to...   \n",
       "14492         -1  @AmericanAir you have my money, you change my ...   \n",
       "\n",
       "                                          processed_text  length  1_word  \\\n",
       "0                     @virginamerica what @dhepburn said       4   13634   \n",
       "1      @virginamerica plus youve added commercials to...       9   13634   \n",
       "2      @virginamerica i didnt today must mean i need ...      12   13634   \n",
       "3      @virginamerica its really aggressive to blast ...      17   13634   \n",
       "4      @virginamerica and its a really big bad thing ...      10   13634   \n",
       "...                                                  ...     ...     ...   \n",
       "14488         @americanair right on cue with the delays👌       7    9495   \n",
       "14489  @americanair thank you we got on a different f...      11    9495   \n",
       "14490  @americanair leaving over 20 minutes late flig...      23    9495   \n",
       "14491  @americanair please bring american airlines to...       7    9495   \n",
       "14492  @americanair you have my money you change my f...      23    9495   \n",
       "\n",
       "       2_word  3_word  4_word  5_word  6_word  ...  21_word  22_word  23_word  \\\n",
       "0        2106   10268   11928       0       0  ...        0        0        0   \n",
       "1        1715    5248    7030    8653    4463  ...        0        0        0   \n",
       "2        8075    2858    2834    5694   10500  ...        0        0        0   \n",
       "3        9067    4484    2406    4463   12531  ...        0        0        0   \n",
       "4        6149    9067   15211    4484    4383  ...        0        0        0   \n",
       "...       ...     ...     ...     ...     ...  ...      ...      ...      ...   \n",
       "14488    9949   11725    7411   15964    1903  ...        0        0        0   \n",
       "14489    2993    6926    7011   15836   11725  ...        0        0        0   \n",
       "14490    8068   16020   10412    5264    4223  ...      648    12420     2901   \n",
       "14491    9826     949     702    6794    4463  ...        0        0        0   \n",
       "14492    6926   10010    9040    4231    6926  ...     7304     9040     3146   \n",
       "\n",
       "       24_word  25_word  26_word  27_word  28_word  29_word  30_word  \n",
       "0            0        0        0        0        0        0        0  \n",
       "1            0        0        0        0        0        0        0  \n",
       "2            0        0        0        0        0        0        0  \n",
       "3            0        0        0        0        0        0        0  \n",
       "4            0        0        0        0        0        0        0  \n",
       "...        ...      ...      ...      ...      ...      ...      ...  \n",
       "14488        0        0        0        0        0        0        0  \n",
       "14489        0        0        0        0        0        0        0  \n",
       "14490        0        0        0        0        0        0        0  \n",
       "14491        0        0        0        0        0        0        0  \n",
       "14492        0        0        0        0        0        0        0  \n",
       "\n",
       "[14493 rows x 34 columns]"
      ]
     },
     "execution_count": 99,
     "metadata": {},
     "output_type": "execute_result"
    }
   ],
   "source": [
    "df_tweets"
   ]
  },
  {
   "cell_type": "code",
   "execution_count": 100,
   "metadata": {},
   "outputs": [],
   "source": [
    "df_tweets.drop(['text'],axis=1, inplace=True)"
   ]
  },
  {
   "cell_type": "code",
   "execution_count": 101,
   "metadata": {},
   "outputs": [],
   "source": [
    "df=df_tweets[['processed_text','sentiment']]\n"
   ]
  },
  {
   "cell_type": "code",
   "execution_count": 102,
   "metadata": {},
   "outputs": [
    {
     "data": {
      "text/html": [
       "<div>\n",
       "<style scoped>\n",
       "    .dataframe tbody tr th:only-of-type {\n",
       "        vertical-align: middle;\n",
       "    }\n",
       "\n",
       "    .dataframe tbody tr th {\n",
       "        vertical-align: top;\n",
       "    }\n",
       "\n",
       "    .dataframe thead th {\n",
       "        text-align: right;\n",
       "    }\n",
       "</style>\n",
       "<table border=\"1\" class=\"dataframe\">\n",
       "  <thead>\n",
       "    <tr style=\"text-align: right;\">\n",
       "      <th></th>\n",
       "      <th>processed_text</th>\n",
       "      <th>sentiment</th>\n",
       "    </tr>\n",
       "  </thead>\n",
       "  <tbody>\n",
       "    <tr>\n",
       "      <td>0</td>\n",
       "      <td>@virginamerica what @dhepburn said</td>\n",
       "      <td>0</td>\n",
       "    </tr>\n",
       "    <tr>\n",
       "      <td>1</td>\n",
       "      <td>@virginamerica plus youve added commercials to...</td>\n",
       "      <td>1</td>\n",
       "    </tr>\n",
       "    <tr>\n",
       "      <td>2</td>\n",
       "      <td>@virginamerica i didnt today must mean i need ...</td>\n",
       "      <td>0</td>\n",
       "    </tr>\n",
       "    <tr>\n",
       "      <td>3</td>\n",
       "      <td>@virginamerica its really aggressive to blast ...</td>\n",
       "      <td>-1</td>\n",
       "    </tr>\n",
       "    <tr>\n",
       "      <td>4</td>\n",
       "      <td>@virginamerica and its a really big bad thing ...</td>\n",
       "      <td>-1</td>\n",
       "    </tr>\n",
       "    <tr>\n",
       "      <td>...</td>\n",
       "      <td>...</td>\n",
       "      <td>...</td>\n",
       "    </tr>\n",
       "    <tr>\n",
       "      <td>14488</td>\n",
       "      <td>@americanair right on cue with the delays👌</td>\n",
       "      <td>-1</td>\n",
       "    </tr>\n",
       "    <tr>\n",
       "      <td>14489</td>\n",
       "      <td>@americanair thank you we got on a different f...</td>\n",
       "      <td>1</td>\n",
       "    </tr>\n",
       "    <tr>\n",
       "      <td>14490</td>\n",
       "      <td>@americanair leaving over 20 minutes late flig...</td>\n",
       "      <td>-1</td>\n",
       "    </tr>\n",
       "    <tr>\n",
       "      <td>14491</td>\n",
       "      <td>@americanair please bring american airlines to...</td>\n",
       "      <td>0</td>\n",
       "    </tr>\n",
       "    <tr>\n",
       "      <td>14492</td>\n",
       "      <td>@americanair you have my money you change my f...</td>\n",
       "      <td>-1</td>\n",
       "    </tr>\n",
       "  </tbody>\n",
       "</table>\n",
       "<p>14493 rows × 2 columns</p>\n",
       "</div>"
      ],
      "text/plain": [
       "                                          processed_text  sentiment\n",
       "0                     @virginamerica what @dhepburn said          0\n",
       "1      @virginamerica plus youve added commercials to...          1\n",
       "2      @virginamerica i didnt today must mean i need ...          0\n",
       "3      @virginamerica its really aggressive to blast ...         -1\n",
       "4      @virginamerica and its a really big bad thing ...         -1\n",
       "...                                                  ...        ...\n",
       "14488         @americanair right on cue with the delays👌         -1\n",
       "14489  @americanair thank you we got on a different f...          1\n",
       "14490  @americanair leaving over 20 minutes late flig...         -1\n",
       "14491  @americanair please bring american airlines to...          0\n",
       "14492  @americanair you have my money you change my f...         -1\n",
       "\n",
       "[14493 rows x 2 columns]"
      ]
     },
     "execution_count": 102,
     "metadata": {},
     "output_type": "execute_result"
    }
   ],
   "source": [
    "df"
   ]
  },
  {
   "cell_type": "code",
   "execution_count": 103,
   "metadata": {},
   "outputs": [
    {
     "data": {
      "text/plain": [
       "(14493, 2)"
      ]
     },
     "execution_count": 103,
     "metadata": {},
     "output_type": "execute_result"
    }
   ],
   "source": [
    "df.shape"
   ]
  },
  {
   "cell_type": "code",
   "execution_count": 104,
   "metadata": {},
   "outputs": [
    {
     "name": "stdout",
     "output_type": "stream",
     "text": [
      "Total Number of Rows of the Training Data: 14493\n",
      "Total Number of Columns of the Training Data: 2\n"
     ]
    }
   ],
   "source": [
    "print(\"Total Number of Rows of the Training Data:\",df.shape[0])\n",
    "print(\"Total Number of Columns of the Training Data:\",df.shape[1])"
   ]
  },
  {
   "cell_type": "code",
   "execution_count": 105,
   "metadata": {},
   "outputs": [
    {
     "data": {
      "text/plain": [
       "-1    9058\n",
       " 0    3080\n",
       " 1    2355\n",
       "Name: sentiment, dtype: int64"
      ]
     },
     "execution_count": 105,
     "metadata": {},
     "output_type": "execute_result"
    }
   ],
   "source": [
    "#Checking values of labels 0 & 1 in the train data:\n",
    "df['sentiment'].value_counts()"
   ]
  },
  {
   "cell_type": "code",
   "execution_count": 106,
   "metadata": {},
   "outputs": [],
   "source": [
    "df_sentiment_count=df['sentiment'].value_counts()"
   ]
  },
  {
   "cell_type": "code",
   "execution_count": 107,
   "metadata": {},
   "outputs": [
    {
     "data": {
      "text/plain": [
       "Text(0.5, 1.0, 'Count of Sentiments')"
      ]
     },
     "execution_count": 107,
     "metadata": {},
     "output_type": "execute_result"
    },
    {
     "data": {
      "image/png": "[encoded data removed]",
      "text/plain": [
       "<Figure size 288x288 with 1 Axes>"
      ]
     },
     "metadata": {},
     "output_type": "display_data"
    }
   ],
   "source": [
    "Index = [1,2,3]\n",
    "sns.set()\n",
    "plt.bar(Index,df_sentiment_count)\n",
    "plt.xticks(Index,['negative','neutral','positive'],rotation=45)\n",
    "plt.ylabel('Sentiment Count')\n",
    "plt.xlabel('Type of Sentiment')\n",
    "plt.title('Count of Sentiments')"
   ]
  },
  {
   "cell_type": "markdown",
   "metadata": {},
   "source": [
    "### Word Cloud for the negative Tweets:"
   ]
  },
  {
   "cell_type": "code",
   "execution_count": 108,
   "metadata": {},
   "outputs": [],
   "source": [
    "#pip install wordcloud"
   ]
  },
  {
   "cell_type": "code",
   "execution_count": 109,
   "metadata": {},
   "outputs": [],
   "source": [
    "from wordcloud import WordCloud,STOPWORDS"
   ]
  },
  {
   "cell_type": "code",
   "execution_count": 110,
   "metadata": {},
   "outputs": [
    {
     "data": {
      "text/plain": [
       "Index(['processed_text', 'sentiment'], dtype='object')"
      ]
     },
     "execution_count": 110,
     "metadata": {},
     "output_type": "execute_result"
    }
   ],
   "source": [
    "df.columns"
   ]
  },
  {
   "cell_type": "code",
   "execution_count": 111,
   "metadata": {},
   "outputs": [],
   "source": [
    "plt.rcParams[\"figure.figsize\"] = (4,4)"
   ]
  },
  {
   "cell_type": "code",
   "execution_count": 112,
   "metadata": {},
   "outputs": [],
   "source": [
    "# df => word_df\n",
    "# Tweet => df\n",
    "##Checking the Negative Sentiments Word Cloud:\n",
    "word_df=df[df['sentiment']== -1]\n",
    "words = ' '.join(word_df['processed_text'])\n",
    "cleaned_word = \" \".join([word for word in words.split()\n",
    "                            if 'http' not in word\n",
    "                                and not word.startswith('@')\n",
    "                                and word != 'RT'\n",
    "                            ])"
   ]
  },
  {
   "cell_type": "code",
   "execution_count": 113,
   "metadata": {},
   "outputs": [],
   "source": [
    "wordcloud = WordCloud(stopwords=STOPWORDS,\n",
    "                      background_color='black',\n",
    "                      width=3000,\n",
    "                      height=2500\n",
    "                     ).generate(cleaned_word)"
   ]
  },
  {
   "cell_type": "code",
   "execution_count": 114,
   "metadata": {},
   "outputs": [
    {
     "data": {
      "image/png": "[encoded data removed]",
      "text/plain": [
       "<Figure size 504x504 with 1 Axes>"
      ]
     },
     "metadata": {},
     "output_type": "display_data"
    }
   ],
   "source": [
    "plt.figure(1,figsize=(7,7))\n",
    "plt.imshow(wordcloud)\n",
    "plt.axis('off')\n",
    "plt.show()"
   ]
  },
  {
   "cell_type": "code",
   "execution_count": 115,
   "metadata": {},
   "outputs": [],
   "source": [
    "#Checking the Positive Sentiments Word Cloud:\n",
    "word_df_1=df[df['sentiment']== 1]\n",
    "words_1 = ' '.join(word_df_1['processed_text'])\n",
    "cleaned_word_1 = \" \".join([word for word in words_1.split()\n",
    "                            if 'http' not in word\n",
    "                                and not word.startswith('@')\n",
    "                                and word != 'RT'\n",
    "                            ])"
   ]
  },
  {
   "cell_type": "code",
   "execution_count": 116,
   "metadata": {},
   "outputs": [],
   "source": [
    "wordcloud_1 = WordCloud(stopwords=STOPWORDS,\n",
    "                      background_color='black',\n",
    "                      width=3000,\n",
    "                      height=2500\n",
    "                     ).generate(cleaned_word_1)"
   ]
  },
  {
   "cell_type": "code",
   "execution_count": 117,
   "metadata": {},
   "outputs": [
    {
     "data": {
      "image/png": "[encoded data removed]",
      "text/plain": [
       "<Figure size 504x504 with 1 Axes>"
      ]
     },
     "metadata": {},
     "output_type": "display_data"
    }
   ],
   "source": [
    "plt.figure(1,figsize=(7, 7))\n",
    "plt.imshow(wordcloud_1)\n",
    "plt.axis('off')\n",
    "plt.show()"
   ]
  },
  {
   "cell_type": "code",
   "execution_count": 118,
   "metadata": {},
   "outputs": [],
   "source": [
    "##Checking the Neutral Sentiments Word Cloud:\n",
    "word_df_2=df[df['sentiment']== 0]\n",
    "words_2 = ' '.join(word_df_2['processed_text'])\n",
    "cleaned_word_2 = \" \".join([word for word in words_2.split()\n",
    "                            if 'http' not in word\n",
    "                                and not word.startswith('@')\n",
    "                                and word != 'RT'\n",
    "                            ])"
   ]
  },
  {
   "cell_type": "code",
   "execution_count": 119,
   "metadata": {},
   "outputs": [],
   "source": [
    "wordcloud_2 = WordCloud(stopwords=STOPWORDS,\n",
    "                      background_color='black',\n",
    "                      width=3000,\n",
    "                      height=2500\n",
    "                     ).generate(cleaned_word_2)"
   ]
  },
  {
   "cell_type": "code",
   "execution_count": 120,
   "metadata": {},
   "outputs": [
    {
     "data": {
      "image/png": "[encoded data removed]",
      "text/plain": [
       "<Figure size 504x504 with 1 Axes>"
      ]
     },
     "metadata": {},
     "output_type": "display_data"
    }
   ],
   "source": [
    "plt.figure(1,figsize=(7, 7))\n",
    "plt.imshow(wordcloud_2)\n",
    "plt.axis('off')\n",
    "plt.show()"
   ]
  },
  {
   "cell_type": "code",
   "execution_count": 121,
   "metadata": {},
   "outputs": [],
   "source": [
    "import seaborn as sns"
   ]
  },
  {
   "cell_type": "code",
   "execution_count": 122,
   "metadata": {},
   "outputs": [
    {
     "data": {
      "text/plain": [
       "<matplotlib.axes._subplots.AxesSubplot at 0x19d36ca8c88>"
      ]
     },
     "execution_count": 122,
     "metadata": {},
     "output_type": "execute_result"
    },
    {
     "data": {
      "image/png": "[encoded data removed]",
      "text/plain": [
       "<Figure size 216x216 with 1 Axes>"
      ]
     },
     "metadata": {},
     "output_type": "display_data"
    }
   ],
   "source": [
    "colors=sns.color_palette(\"husl\", 10)\n",
    "pd.Series(df[\"sentiment\"]).value_counts().plot(kind=\"pie\",colors=colors,\n",
    "    labels=[\"negative\", \"neutral\", \"positive\"],explode=[0.05,0.02,0.04],\n",
    "    shadow=True,autopct='%.2f', fontsize=12,figsize=(3, 3),title = \"Total Tweets for Each Sentiment\")"
   ]
  },
  {
   "cell_type": "code",
   "execution_count": 123,
   "metadata": {},
   "outputs": [
    {
     "name": "stderr",
     "output_type": "stream",
     "text": [
      "C:\\Users\\priya\\Anaconda3\\lib\\site-packages\\ipykernel_launcher.py:2: SettingWithCopyWarning:\n",
      "\n",
      "\n",
      "A value is trying to be set on a copy of a slice from a DataFrame.\n",
      "Try using .loc[row_indexer,col_indexer] = value instead\n",
      "\n",
      "See the caveats in the documentation: http://pandas.pydata.org/pandas-docs/stable/user_guide/indexing.html#returning-a-view-versus-a-copy\n",
      "\n"
     ]
    }
   ],
   "source": [
    "#Removing '@' character:\n",
    "df['processed_text']=df['processed_text'].replace({'@':''},regex=True)"
   ]
  },
  {
   "cell_type": "code",
   "execution_count": 124,
   "metadata": {},
   "outputs": [],
   "source": [
    "#Removing Emojis:\n",
    "df=df.astype(str).apply(lambda x: x.str.encode('ascii', 'ignore').str.decode('ascii'))"
   ]
  },
  {
   "cell_type": "code",
   "execution_count": 125,
   "metadata": {},
   "outputs": [
    {
     "data": {
      "text/html": [
       "<div>\n",
       "<style scoped>\n",
       "    .dataframe tbody tr th:only-of-type {\n",
       "        vertical-align: middle;\n",
       "    }\n",
       "\n",
       "    .dataframe tbody tr th {\n",
       "        vertical-align: top;\n",
       "    }\n",
       "\n",
       "    .dataframe thead th {\n",
       "        text-align: right;\n",
       "    }\n",
       "</style>\n",
       "<table border=\"1\" class=\"dataframe\">\n",
       "  <thead>\n",
       "    <tr style=\"text-align: right;\">\n",
       "      <th></th>\n",
       "      <th>processed_text</th>\n",
       "      <th>sentiment</th>\n",
       "    </tr>\n",
       "  </thead>\n",
       "  <tbody>\n",
       "    <tr>\n",
       "      <td>0</td>\n",
       "      <td>virginamerica what dhepburn said</td>\n",
       "      <td>0</td>\n",
       "    </tr>\n",
       "    <tr>\n",
       "      <td>1</td>\n",
       "      <td>virginamerica plus youve added commercials to ...</td>\n",
       "      <td>1</td>\n",
       "    </tr>\n",
       "    <tr>\n",
       "      <td>2</td>\n",
       "      <td>virginamerica i didnt today must mean i need t...</td>\n",
       "      <td>0</td>\n",
       "    </tr>\n",
       "    <tr>\n",
       "      <td>3</td>\n",
       "      <td>virginamerica its really aggressive to blast o...</td>\n",
       "      <td>-1</td>\n",
       "    </tr>\n",
       "    <tr>\n",
       "      <td>4</td>\n",
       "      <td>virginamerica and its a really big bad thing a...</td>\n",
       "      <td>-1</td>\n",
       "    </tr>\n",
       "    <tr>\n",
       "      <td>...</td>\n",
       "      <td>...</td>\n",
       "      <td>...</td>\n",
       "    </tr>\n",
       "    <tr>\n",
       "      <td>14488</td>\n",
       "      <td>americanair right on cue with the delays</td>\n",
       "      <td>-1</td>\n",
       "    </tr>\n",
       "    <tr>\n",
       "      <td>14489</td>\n",
       "      <td>americanair thank you we got on a different fl...</td>\n",
       "      <td>1</td>\n",
       "    </tr>\n",
       "    <tr>\n",
       "      <td>14490</td>\n",
       "      <td>americanair leaving over 20 minutes late fligh...</td>\n",
       "      <td>-1</td>\n",
       "    </tr>\n",
       "    <tr>\n",
       "      <td>14491</td>\n",
       "      <td>americanair please bring american airlines to ...</td>\n",
       "      <td>0</td>\n",
       "    </tr>\n",
       "    <tr>\n",
       "      <td>14492</td>\n",
       "      <td>americanair you have my money you change my fl...</td>\n",
       "      <td>-1</td>\n",
       "    </tr>\n",
       "  </tbody>\n",
       "</table>\n",
       "<p>14493 rows × 2 columns</p>\n",
       "</div>"
      ],
      "text/plain": [
       "                                          processed_text sentiment\n",
       "0                       virginamerica what dhepburn said         0\n",
       "1      virginamerica plus youve added commercials to ...         1\n",
       "2      virginamerica i didnt today must mean i need t...         0\n",
       "3      virginamerica its really aggressive to blast o...        -1\n",
       "4      virginamerica and its a really big bad thing a...        -1\n",
       "...                                                  ...       ...\n",
       "14488           americanair right on cue with the delays        -1\n",
       "14489  americanair thank you we got on a different fl...         1\n",
       "14490  americanair leaving over 20 minutes late fligh...        -1\n",
       "14491  americanair please bring american airlines to ...         0\n",
       "14492  americanair you have my money you change my fl...        -1\n",
       "\n",
       "[14493 rows x 2 columns]"
      ]
     },
     "execution_count": 125,
     "metadata": {},
     "output_type": "execute_result"
    }
   ],
   "source": [
    "df"
   ]
  },
  {
   "cell_type": "code",
   "execution_count": 126,
   "metadata": {},
   "outputs": [
    {
     "data": {
      "text/plain": [
       "False"
      ]
     },
     "execution_count": 126,
     "metadata": {},
     "output_type": "execute_result"
    }
   ],
   "source": [
    "#Checking the Null values in Train Data:\n",
    "df.isnull().values.any()"
   ]
  },
  {
   "cell_type": "markdown",
   "metadata": {},
   "source": [
    "There are more negative reviews"
   ]
  },
  {
   "cell_type": "markdown",
   "metadata": {},
   "source": [
    "The dataset has class imbalance problem. We can use the oversampling of minority classes (neutral and positive classes) in order to handle this problem."
   ]
  },
  {
   "cell_type": "code",
   "execution_count": 127,
   "metadata": {},
   "outputs": [],
   "source": [
    "lem = WordNetLemmatizer()\n",
    "def stem_review(review):\n",
    "    return ' '.join([lem.lemmatize(word) for word in review.split(' ')])\n",
    "def normalize_text(dataframe):\n",
    "    '''\n",
    "    function used for rooting / stemming tokens\n",
    "    '''\n",
    "    dataframe['processed_text']=dataframe['processed_text'].apply(lambda x : stem_review(x))"
   ]
  },
  {
   "cell_type": "code",
   "execution_count": 128,
   "metadata": {},
   "outputs": [
    {
     "data": {
      "text/plain": [
       "Index(['processed_text', 'sentiment'], dtype='object')"
      ]
     },
     "execution_count": 128,
     "metadata": {},
     "output_type": "execute_result"
    }
   ],
   "source": [
    "df.columns"
   ]
  },
  {
   "cell_type": "code",
   "execution_count": 129,
   "metadata": {},
   "outputs": [
    {
     "name": "stderr",
     "output_type": "stream",
     "text": [
      "[nltk_data] Downloading package wordnet to\n",
      "[nltk_data]     C:\\Users\\priya\\AppData\\Roaming\\nltk_data...\n",
      "[nltk_data]   Package wordnet is already up-to-date!\n"
     ]
    },
    {
     "data": {
      "text/plain": [
       "True"
      ]
     },
     "execution_count": 129,
     "metadata": {},
     "output_type": "execute_result"
    }
   ],
   "source": [
    "import nltk\n",
    "nltk.download('wordnet')"
   ]
  },
  {
   "cell_type": "markdown",
   "metadata": {},
   "source": [
    "**Text cleaning and preprocessing**"
   ]
  },
  {
   "cell_type": "code",
   "execution_count": 130,
   "metadata": {},
   "outputs": [],
   "source": [
    "#To clean the data text from unwanted characters and spaces:\n",
    "def clean_text(dataframe):\n",
    "    '''\n",
    "    function to clean tweets dataframe text , eg : remove white spaces , special chars and website urls\n",
    "    '''\n",
    "    # select nedded columns\n",
    "    dataframe=dataframe[['processed_text','sentiment']]\n",
    "    # drop nans\n",
    "    dataframe=dataframe.dropna()\n",
    "    # convert review into lower case\n",
    "    dataframe['processed_text']=dataframe['processed_text'].apply(lambda row : row.lower())\n",
    "    # remove numbers\n",
    "    dataframe['processed_text']=dataframe['processed_text'].apply(lambda row : re.sub('\\d+','',row))\n",
    "    # remove tweet account name\n",
    "    dataframe['processed_text']=dataframe['processed_text'].apply(lambda row:re.sub(r'@\\w+', '',row))\n",
    "    # remove website urls\n",
    "    dataframe['processed_text']=dataframe['processed_text'].apply(lambda row:re.sub(r'http\\S+', '',row))\n",
    "    # rwmove special characters\n",
    "    dataframe['processed_text']=dataframe['processed_text'].apply(lambda row:re.sub(r\"[^A-Za-z0-9']+\", ' ',row))\n",
    "    # remove white spaces\n",
    "    dataframe['processed_text']=dataframe['processed_text'].apply(lambda row:re.sub(r'\\s+', ' ',row))\n",
    "    \n",
    "    return dataframe\n"
   ]
  },
  {
   "cell_type": "code",
   "execution_count": 131,
   "metadata": {},
   "outputs": [],
   "source": [
    "#traindf=clean_text(df)\n",
    "clean_df=clean_text(df)"
   ]
  },
  {
   "cell_type": "code",
   "execution_count": 132,
   "metadata": {},
   "outputs": [
    {
     "data": {
      "text/plain": [
       "(14493, 2)"
      ]
     },
     "execution_count": 132,
     "metadata": {},
     "output_type": "execute_result"
    }
   ],
   "source": [
    "clean_df.shape"
   ]
  },
  {
   "cell_type": "code",
   "execution_count": 133,
   "metadata": {},
   "outputs": [],
   "source": [
    "features_data=clean_df['processed_text']"
   ]
  },
  {
   "cell_type": "code",
   "execution_count": 134,
   "metadata": {},
   "outputs": [
    {
     "data": {
      "text/plain": [
       "(14493,)"
      ]
     },
     "execution_count": 134,
     "metadata": {},
     "output_type": "execute_result"
    }
   ],
   "source": [
    "features_data.shape"
   ]
  },
  {
   "cell_type": "code",
   "execution_count": 135,
   "metadata": {},
   "outputs": [
    {
     "data": {
      "text/plain": [
       "TfidfVectorizer(analyzer='word', binary=False, decode_error='strict',\n",
       "                dtype=<class 'numpy.float64'>, encoding='utf-8',\n",
       "                input='content', lowercase=True, max_df=0.7, max_features=None,\n",
       "                min_df=5, ngram_range=(1, 2), norm='l2', preprocessor=None,\n",
       "                smooth_idf=True, stop_words='english', strip_accents=None,\n",
       "                sublinear_tf=False, token_pattern='(?u)\\\\b\\\\w\\\\w+\\\\b',\n",
       "                tokenizer=None, use_idf=True, vocabulary=None)"
      ]
     },
     "execution_count": 135,
     "metadata": {},
     "output_type": "execute_result"
    }
   ],
   "source": [
    "#convert text into numeric values using tf-idf vectorizer on entire Dataset:\n",
    "tfidfconverter = TfidfVectorizer(\n",
    "                                 min_df=5, \n",
    "                                 max_df=0.7,\n",
    "                                 ngram_range=(1,2),\n",
    "                                 stop_words='english'\n",
    "                                )  \n",
    "tfidfconverter.fit(features_data)"
   ]
  },
  {
   "cell_type": "markdown",
   "metadata": {},
   "source": [
    "**Transforming X_train & X_test data to a counter => Done later for**  \n",
    "1) Training features only after doing their Augmentation first &   \n",
    "2) Test features only without augmentation => to avoid data leakage\n"
   ]
  },
  {
   "cell_type": "markdown",
   "metadata": {},
   "source": [
    "**Do not train on entire dataset of tf-idf now. first do Augmentation now & then predict**"
   ]
  },
  {
   "cell_type": "code",
   "execution_count": 136,
   "metadata": {},
   "outputs": [],
   "source": [
    "#Splitting the data into 80% Training Data & 20% Testing Data\n",
    "data_train,data_test = train_test_split(clean_df, test_size=.2)"
   ]
  },
  {
   "cell_type": "code",
   "execution_count": null,
   "metadata": {},
   "outputs": [],
   "source": []
  },
  {
   "cell_type": "code",
   "execution_count": 137,
   "metadata": {},
   "outputs": [
    {
     "data": {
      "text/html": [
       "<div>\n",
       "<style scoped>\n",
       "    .dataframe tbody tr th:only-of-type {\n",
       "        vertical-align: middle;\n",
       "    }\n",
       "\n",
       "    .dataframe tbody tr th {\n",
       "        vertical-align: top;\n",
       "    }\n",
       "\n",
       "    .dataframe thead th {\n",
       "        text-align: right;\n",
       "    }\n",
       "</style>\n",
       "<table border=\"1\" class=\"dataframe\">\n",
       "  <thead>\n",
       "    <tr style=\"text-align: right;\">\n",
       "      <th></th>\n",
       "      <th>processed_text</th>\n",
       "      <th>sentiment</th>\n",
       "    </tr>\n",
       "  </thead>\n",
       "  <tbody>\n",
       "    <tr>\n",
       "      <td>9837</td>\n",
       "      <td>usairways and after six hours even the gate ag...</td>\n",
       "      <td>-1</td>\n",
       "    </tr>\n",
       "    <tr>\n",
       "      <td>9683</td>\n",
       "      <td>usairways americanair how is it possible that ...</td>\n",
       "      <td>-1</td>\n",
       "    </tr>\n",
       "    <tr>\n",
       "      <td>3756</td>\n",
       "      <td>united please help left my ipad air on my flig...</td>\n",
       "      <td>0</td>\n",
       "    </tr>\n",
       "    <tr>\n",
       "      <td>11778</td>\n",
       "      <td>americanair thx for responding i cant watch mi...</td>\n",
       "      <td>-1</td>\n",
       "    </tr>\n",
       "    <tr>\n",
       "      <td>4691</td>\n",
       "      <td>southwestair can you equip a with flamethrower...</td>\n",
       "      <td>0</td>\n",
       "    </tr>\n",
       "  </tbody>\n",
       "</table>\n",
       "</div>"
      ],
      "text/plain": [
       "                                          processed_text sentiment\n",
       "9837   usairways and after six hours even the gate ag...        -1\n",
       "9683   usairways americanair how is it possible that ...        -1\n",
       "3756   united please help left my ipad air on my flig...         0\n",
       "11778  americanair thx for responding i cant watch mi...        -1\n",
       "4691   southwestair can you equip a with flamethrower...         0"
      ]
     },
     "execution_count": 137,
     "metadata": {},
     "output_type": "execute_result"
    }
   ],
   "source": [
    "data_train.head(5)"
   ]
  },
  {
   "cell_type": "code",
   "execution_count": 138,
   "metadata": {},
   "outputs": [
    {
     "data": {
      "text/plain": [
       "(11594, 2)"
      ]
     },
     "execution_count": 138,
     "metadata": {},
     "output_type": "execute_result"
    }
   ],
   "source": [
    "data_train.shape"
   ]
  },
  {
   "cell_type": "code",
   "execution_count": 139,
   "metadata": {},
   "outputs": [
    {
     "data": {
      "text/plain": [
       "-1    7250\n",
       "0     2470\n",
       "1     1874\n",
       "Name: sentiment, dtype: int64"
      ]
     },
     "execution_count": 139,
     "metadata": {},
     "output_type": "execute_result"
    }
   ],
   "source": [
    "data_train['sentiment'].value_counts()"
   ]
  },
  {
   "cell_type": "code",
   "execution_count": 140,
   "metadata": {},
   "outputs": [
    {
     "data": {
      "text/html": [
       "<div>\n",
       "<style scoped>\n",
       "    .dataframe tbody tr th:only-of-type {\n",
       "        vertical-align: middle;\n",
       "    }\n",
       "\n",
       "    .dataframe tbody tr th {\n",
       "        vertical-align: top;\n",
       "    }\n",
       "\n",
       "    .dataframe thead th {\n",
       "        text-align: right;\n",
       "    }\n",
       "</style>\n",
       "<table border=\"1\" class=\"dataframe\">\n",
       "  <thead>\n",
       "    <tr style=\"text-align: right;\">\n",
       "      <th></th>\n",
       "      <th>processed_text</th>\n",
       "      <th>sentiment</th>\n",
       "    </tr>\n",
       "  </thead>\n",
       "  <tbody>\n",
       "    <tr>\n",
       "      <td>3041</td>\n",
       "      <td>united hour delay misplaced bag poor communica...</td>\n",
       "      <td>-1</td>\n",
       "    </tr>\n",
       "    <tr>\n",
       "      <td>4221</td>\n",
       "      <td>united you better hold my flight to tucson jus...</td>\n",
       "      <td>-1</td>\n",
       "    </tr>\n",
       "    <tr>\n",
       "      <td>9246</td>\n",
       "      <td>usairways ill check it out when i get to the a...</td>\n",
       "      <td>1</td>\n",
       "    </tr>\n",
       "    <tr>\n",
       "      <td>10375</td>\n",
       "      <td>usairways need seat assignments for one leg of...</td>\n",
       "      <td>0</td>\n",
       "    </tr>\n",
       "    <tr>\n",
       "      <td>310</td>\n",
       "      <td>virginamerica missed my flight how does standb...</td>\n",
       "      <td>0</td>\n",
       "    </tr>\n",
       "  </tbody>\n",
       "</table>\n",
       "</div>"
      ],
      "text/plain": [
       "                                          processed_text sentiment\n",
       "3041   united hour delay misplaced bag poor communica...        -1\n",
       "4221   united you better hold my flight to tucson jus...        -1\n",
       "9246   usairways ill check it out when i get to the a...         1\n",
       "10375  usairways need seat assignments for one leg of...         0\n",
       "310    virginamerica missed my flight how does standb...         0"
      ]
     },
     "execution_count": 140,
     "metadata": {},
     "output_type": "execute_result"
    }
   ],
   "source": [
    "data_test.head(5)"
   ]
  },
  {
   "cell_type": "code",
   "execution_count": 141,
   "metadata": {},
   "outputs": [
    {
     "data": {
      "text/plain": [
       "(2899, 2)"
      ]
     },
     "execution_count": 141,
     "metadata": {},
     "output_type": "execute_result"
    }
   ],
   "source": [
    "data_test.shape"
   ]
  },
  {
   "cell_type": "code",
   "execution_count": 142,
   "metadata": {},
   "outputs": [
    {
     "data": {
      "text/plain": [
       "-1    1808\n",
       "0      610\n",
       "1      481\n",
       "Name: sentiment, dtype: int64"
      ]
     },
     "execution_count": 142,
     "metadata": {},
     "output_type": "execute_result"
    }
   ],
   "source": [
    "data_test['sentiment'].value_counts()"
   ]
  },
  {
   "cell_type": "code",
   "execution_count": 143,
   "metadata": {},
   "outputs": [],
   "source": [
    "#Creating a new copy of data frame for train data:\n",
    "traindf=data_train"
   ]
  },
  {
   "cell_type": "code",
   "execution_count": 144,
   "metadata": {},
   "outputs": [
    {
     "data": {
      "text/plain": [
       "(11594, 2)"
      ]
     },
     "execution_count": 144,
     "metadata": {},
     "output_type": "execute_result"
    }
   ],
   "source": [
    "traindf.shape"
   ]
  },
  {
   "cell_type": "code",
   "execution_count": 145,
   "metadata": {},
   "outputs": [
    {
     "data": {
      "text/html": [
       "<div>\n",
       "<style scoped>\n",
       "    .dataframe tbody tr th:only-of-type {\n",
       "        vertical-align: middle;\n",
       "    }\n",
       "\n",
       "    .dataframe tbody tr th {\n",
       "        vertical-align: top;\n",
       "    }\n",
       "\n",
       "    .dataframe thead th {\n",
       "        text-align: right;\n",
       "    }\n",
       "</style>\n",
       "<table border=\"1\" class=\"dataframe\">\n",
       "  <thead>\n",
       "    <tr style=\"text-align: right;\">\n",
       "      <th></th>\n",
       "      <th>processed_text</th>\n",
       "      <th>sentiment</th>\n",
       "    </tr>\n",
       "  </thead>\n",
       "  <tbody>\n",
       "    <tr>\n",
       "      <td>9837</td>\n",
       "      <td>usairways and after six hours even the gate ag...</td>\n",
       "      <td>-1</td>\n",
       "    </tr>\n",
       "    <tr>\n",
       "      <td>9683</td>\n",
       "      <td>usairways americanair how is it possible that ...</td>\n",
       "      <td>-1</td>\n",
       "    </tr>\n",
       "    <tr>\n",
       "      <td>3756</td>\n",
       "      <td>united please help left my ipad air on my flig...</td>\n",
       "      <td>0</td>\n",
       "    </tr>\n",
       "    <tr>\n",
       "      <td>11778</td>\n",
       "      <td>americanair thx for responding i cant watch mi...</td>\n",
       "      <td>-1</td>\n",
       "    </tr>\n",
       "    <tr>\n",
       "      <td>4691</td>\n",
       "      <td>southwestair can you equip a with flamethrower...</td>\n",
       "      <td>0</td>\n",
       "    </tr>\n",
       "    <tr>\n",
       "      <td>...</td>\n",
       "      <td>...</td>\n",
       "      <td>...</td>\n",
       "    </tr>\n",
       "    <tr>\n",
       "      <td>9759</td>\n",
       "      <td>usairways hopefully your crappy service improv...</td>\n",
       "      <td>-1</td>\n",
       "    </tr>\n",
       "    <tr>\n",
       "      <td>557</td>\n",
       "      <td>united a measly ecertificate is not how you ap...</td>\n",
       "      <td>-1</td>\n",
       "    </tr>\n",
       "    <tr>\n",
       "      <td>588</td>\n",
       "      <td>united i just sent an email to customer care t...</td>\n",
       "      <td>-1</td>\n",
       "    </tr>\n",
       "    <tr>\n",
       "      <td>2520</td>\n",
       "      <td>united addair we hope you dont miss your conne...</td>\n",
       "      <td>0</td>\n",
       "    </tr>\n",
       "    <tr>\n",
       "      <td>14369</td>\n",
       "      <td>americanair bought a ticket on southwestair af...</td>\n",
       "      <td>-1</td>\n",
       "    </tr>\n",
       "  </tbody>\n",
       "</table>\n",
       "<p>11594 rows × 2 columns</p>\n",
       "</div>"
      ],
      "text/plain": [
       "                                          processed_text sentiment\n",
       "9837   usairways and after six hours even the gate ag...        -1\n",
       "9683   usairways americanair how is it possible that ...        -1\n",
       "3756   united please help left my ipad air on my flig...         0\n",
       "11778  americanair thx for responding i cant watch mi...        -1\n",
       "4691   southwestair can you equip a with flamethrower...         0\n",
       "...                                                  ...       ...\n",
       "9759   usairways hopefully your crappy service improv...        -1\n",
       "557    united a measly ecertificate is not how you ap...        -1\n",
       "588    united i just sent an email to customer care t...        -1\n",
       "2520   united addair we hope you dont miss your conne...         0\n",
       "14369  americanair bought a ticket on southwestair af...        -1\n",
       "\n",
       "[11594 rows x 2 columns]"
      ]
     },
     "execution_count": 145,
     "metadata": {},
     "output_type": "execute_result"
    }
   ],
   "source": [
    "traindf"
   ]
  },
  {
   "cell_type": "code",
   "execution_count": 146,
   "metadata": {},
   "outputs": [
    {
     "name": "stderr",
     "output_type": "stream",
     "text": [
      "C:\\Users\\priya\\Anaconda3\\lib\\site-packages\\ipykernel_launcher.py:8: SettingWithCopyWarning:\n",
      "\n",
      "\n",
      "A value is trying to be set on a copy of a slice from a DataFrame.\n",
      "Try using .loc[row_indexer,col_indexer] = value instead\n",
      "\n",
      "See the caveats in the documentation: http://pandas.pydata.org/pandas-docs/stable/user_guide/indexing.html#returning-a-view-versus-a-copy\n",
      "\n"
     ]
    }
   ],
   "source": [
    "normalize_text(traindf)"
   ]
  },
  {
   "cell_type": "code",
   "execution_count": 147,
   "metadata": {},
   "outputs": [
    {
     "data": {
      "text/html": [
       "<div>\n",
       "<style scoped>\n",
       "    .dataframe tbody tr th:only-of-type {\n",
       "        vertical-align: middle;\n",
       "    }\n",
       "\n",
       "    .dataframe tbody tr th {\n",
       "        vertical-align: top;\n",
       "    }\n",
       "\n",
       "    .dataframe thead th {\n",
       "        text-align: right;\n",
       "    }\n",
       "</style>\n",
       "<table border=\"1\" class=\"dataframe\">\n",
       "  <thead>\n",
       "    <tr style=\"text-align: right;\">\n",
       "      <th></th>\n",
       "      <th>processed_text</th>\n",
       "      <th>sentiment</th>\n",
       "    </tr>\n",
       "  </thead>\n",
       "  <tbody>\n",
       "    <tr>\n",
       "      <td>9837</td>\n",
       "      <td>usairways and after six hour even the gate age...</td>\n",
       "      <td>-1</td>\n",
       "    </tr>\n",
       "    <tr>\n",
       "      <td>9683</td>\n",
       "      <td>usairways americanair how is it possible that ...</td>\n",
       "      <td>-1</td>\n",
       "    </tr>\n",
       "    <tr>\n",
       "      <td>3756</td>\n",
       "      <td>united please help left my ipad air on my flig...</td>\n",
       "      <td>0</td>\n",
       "    </tr>\n",
       "    <tr>\n",
       "      <td>11778</td>\n",
       "      <td>americanair thx for responding i cant watch mi...</td>\n",
       "      <td>-1</td>\n",
       "    </tr>\n",
       "    <tr>\n",
       "      <td>4691</td>\n",
       "      <td>southwestair can you equip a with flamethrower...</td>\n",
       "      <td>0</td>\n",
       "    </tr>\n",
       "    <tr>\n",
       "      <td>...</td>\n",
       "      <td>...</td>\n",
       "      <td>...</td>\n",
       "    </tr>\n",
       "    <tr>\n",
       "      <td>9759</td>\n",
       "      <td>usairways hopefully your crappy service improv...</td>\n",
       "      <td>-1</td>\n",
       "    </tr>\n",
       "    <tr>\n",
       "      <td>557</td>\n",
       "      <td>united a measly ecertificate is not how you ap...</td>\n",
       "      <td>-1</td>\n",
       "    </tr>\n",
       "    <tr>\n",
       "      <td>588</td>\n",
       "      <td>united i just sent an email to customer care t...</td>\n",
       "      <td>-1</td>\n",
       "    </tr>\n",
       "    <tr>\n",
       "      <td>2520</td>\n",
       "      <td>united addair we hope you dont miss your conne...</td>\n",
       "      <td>0</td>\n",
       "    </tr>\n",
       "    <tr>\n",
       "      <td>14369</td>\n",
       "      <td>americanair bought a ticket on southwestair af...</td>\n",
       "      <td>-1</td>\n",
       "    </tr>\n",
       "  </tbody>\n",
       "</table>\n",
       "<p>11594 rows × 2 columns</p>\n",
       "</div>"
      ],
      "text/plain": [
       "                                          processed_text sentiment\n",
       "9837   usairways and after six hour even the gate age...        -1\n",
       "9683   usairways americanair how is it possible that ...        -1\n",
       "3756   united please help left my ipad air on my flig...         0\n",
       "11778  americanair thx for responding i cant watch mi...        -1\n",
       "4691   southwestair can you equip a with flamethrower...         0\n",
       "...                                                  ...       ...\n",
       "9759   usairways hopefully your crappy service improv...        -1\n",
       "557    united a measly ecertificate is not how you ap...        -1\n",
       "588    united i just sent an email to customer care t...        -1\n",
       "2520   united addair we hope you dont miss your conne...         0\n",
       "14369  americanair bought a ticket on southwestair af...        -1\n",
       "\n",
       "[11594 rows x 2 columns]"
      ]
     },
     "execution_count": 147,
     "metadata": {},
     "output_type": "execute_result"
    }
   ],
   "source": [
    "traindf"
   ]
  },
  {
   "cell_type": "code",
   "execution_count": 148,
   "metadata": {},
   "outputs": [
    {
     "data": {
      "text/plain": [
       "-1    7250\n",
       "0     2470\n",
       "1     1874\n",
       "Name: sentiment, dtype: int64"
      ]
     },
     "execution_count": 148,
     "metadata": {},
     "output_type": "execute_result"
    }
   ],
   "source": [
    "traindf['sentiment'].value_counts()"
   ]
  },
  {
   "cell_type": "code",
   "execution_count": 149,
   "metadata": {},
   "outputs": [
    {
     "data": {
      "text/plain": [
       "Index(['processed_text', 'sentiment'], dtype='object')"
      ]
     },
     "execution_count": 149,
     "metadata": {},
     "output_type": "execute_result"
    }
   ],
   "source": [
    "traindf.columns"
   ]
  },
  {
   "cell_type": "markdown",
   "metadata": {},
   "source": [
    "**Text augmentation**\n",
    "\n",
    "to solve class imbalance problem we shall augment/oversample minor classes"
   ]
  },
  {
   "cell_type": "code",
   "execution_count": 150,
   "metadata": {},
   "outputs": [],
   "source": [
    "def augment_text(dataframe):\n",
    "    '''\n",
    "    function used to augment minor classes in tweets dataset\n",
    "    '''\n",
    "    augmented_df = pd.DataFrame(columns=['processed_text', 'sentiment'])\n",
    "    augmentor=naw.SynonymAug(aug_p=0.5)\n",
    "    #aug_sent={0:3, 1:4}\n",
    "    aug_sent={'0':3,\n",
    "             '1':4}\n",
    "    for i in range(len(dataframe)):\n",
    "        current_label=dataframe['sentiment'].iloc[i]\n",
    "        if current_label in list(aug_sent.keys()):\n",
    "            current_text=dataframe['processed_text'].iloc[i]\n",
    "            for j in range(aug_sent[current_label]):\n",
    "                text = augmentor.augment(current_text)\n",
    "                label = current_label\n",
    "                tempdf = pd.DataFrame(list(zip([text], [label])), columns=['processed_text', 'sentiment'])\n",
    "                augmented_df = augmented_df.append(tempdf)\n",
    "        else :\n",
    "                text = dataframe['processed_text'].iloc[i]\n",
    "                label = current_label\n",
    "                tempdf = pd.DataFrame(list(zip([text], [label])), columns=['processed_text', 'sentiment'])\n",
    "                augmented_df = augmented_df.append(tempdf)\n",
    "    return augmented_df"
   ]
  },
  {
   "cell_type": "code",
   "execution_count": 151,
   "metadata": {},
   "outputs": [],
   "source": [
    "#import nlpaug.augmenter.word as naw"
   ]
  },
  {
   "cell_type": "code",
   "execution_count": 152,
   "metadata": {},
   "outputs": [
    {
     "name": "stderr",
     "output_type": "stream",
     "text": [
      "[nltk_data] Downloading package averaged_perceptron_tagger to\n",
      "[nltk_data]     C:\\Users\\priya\\AppData\\Roaming\\nltk_data...\n",
      "[nltk_data]   Package averaged_perceptron_tagger is already up-to-\n",
      "[nltk_data]       date!\n"
     ]
    },
    {
     "data": {
      "text/plain": [
       "True"
      ]
     },
     "execution_count": 152,
     "metadata": {},
     "output_type": "execute_result"
    }
   ],
   "source": [
    "import nltk\n",
    "nltk.download('averaged_perceptron_tagger')"
   ]
  },
  {
   "cell_type": "code",
   "execution_count": 153,
   "metadata": {},
   "outputs": [],
   "source": [
    "augmented_traindf=augment_text(traindf)"
   ]
  },
  {
   "cell_type": "markdown",
   "metadata": {},
   "source": [
    "**Text Representation**\n",
    "\n",
    "i will use TfidfVectorizer for sentiment vectorization , from many experiments i have done before with sentiment/reviews datasets , below configuration gives good results"
   ]
  },
  {
   "cell_type": "code",
   "execution_count": 154,
   "metadata": {},
   "outputs": [
    {
     "data": {
      "text/html": [
       "<div>\n",
       "<style scoped>\n",
       "    .dataframe tbody tr th:only-of-type {\n",
       "        vertical-align: middle;\n",
       "    }\n",
       "\n",
       "    .dataframe tbody tr th {\n",
       "        vertical-align: top;\n",
       "    }\n",
       "\n",
       "    .dataframe thead th {\n",
       "        text-align: right;\n",
       "    }\n",
       "</style>\n",
       "<table border=\"1\" class=\"dataframe\">\n",
       "  <thead>\n",
       "    <tr style=\"text-align: right;\">\n",
       "      <th></th>\n",
       "      <th>processed_text</th>\n",
       "      <th>sentiment</th>\n",
       "    </tr>\n",
       "  </thead>\n",
       "  <tbody>\n",
       "    <tr>\n",
       "      <td>0</td>\n",
       "      <td>usairways and after six hour even the gate age...</td>\n",
       "      <td>-1</td>\n",
       "    </tr>\n",
       "    <tr>\n",
       "      <td>0</td>\n",
       "      <td>usairways americanair how is it possible that ...</td>\n",
       "      <td>-1</td>\n",
       "    </tr>\n",
       "    <tr>\n",
       "      <td>0</td>\n",
       "      <td>united please help left my ipad air on my flig...</td>\n",
       "      <td>0</td>\n",
       "    </tr>\n",
       "    <tr>\n",
       "      <td>0</td>\n",
       "      <td>united please assistant leave my ipad air on m...</td>\n",
       "      <td>0</td>\n",
       "    </tr>\n",
       "    <tr>\n",
       "      <td>0</td>\n",
       "      <td>united please service left my ipad atmosphere ...</td>\n",
       "      <td>0</td>\n",
       "    </tr>\n",
       "    <tr>\n",
       "      <td>...</td>\n",
       "      <td>...</td>\n",
       "      <td>...</td>\n",
       "    </tr>\n",
       "    <tr>\n",
       "      <td>0</td>\n",
       "      <td>united i just sent an email to customer care t...</td>\n",
       "      <td>-1</td>\n",
       "    </tr>\n",
       "    <tr>\n",
       "      <td>0</td>\n",
       "      <td>united addair we desire you dont miss your ass...</td>\n",
       "      <td>0</td>\n",
       "    </tr>\n",
       "    <tr>\n",
       "      <td>0</td>\n",
       "      <td>united addair we trust you dont miss your asso...</td>\n",
       "      <td>0</td>\n",
       "    </tr>\n",
       "    <tr>\n",
       "      <td>0</td>\n",
       "      <td>joined addair we hope you dont miss your conne...</td>\n",
       "      <td>0</td>\n",
       "    </tr>\n",
       "    <tr>\n",
       "      <td>0</td>\n",
       "      <td>americanair bought a ticket on southwestair af...</td>\n",
       "      <td>-1</td>\n",
       "    </tr>\n",
       "  </tbody>\n",
       "</table>\n",
       "<p>22156 rows × 2 columns</p>\n",
       "</div>"
      ],
      "text/plain": [
       "                                       processed_text sentiment\n",
       "0   usairways and after six hour even the gate age...        -1\n",
       "0   usairways americanair how is it possible that ...        -1\n",
       "0   united please help left my ipad air on my flig...         0\n",
       "0   united please assistant leave my ipad air on m...         0\n",
       "0   united please service left my ipad atmosphere ...         0\n",
       "..                                                ...       ...\n",
       "0   united i just sent an email to customer care t...        -1\n",
       "0   united addair we desire you dont miss your ass...         0\n",
       "0   united addair we trust you dont miss your asso...         0\n",
       "0   joined addair we hope you dont miss your conne...         0\n",
       "0   americanair bought a ticket on southwestair af...        -1\n",
       "\n",
       "[22156 rows x 2 columns]"
      ]
     },
     "execution_count": 154,
     "metadata": {},
     "output_type": "execute_result"
    }
   ],
   "source": [
    "augmented_traindf"
   ]
  },
  {
   "cell_type": "code",
   "execution_count": 155,
   "metadata": {},
   "outputs": [
    {
     "data": {
      "text/plain": [
       "1     7496\n",
       "0     7410\n",
       "-1    7250\n",
       "Name: sentiment, dtype: int64"
      ]
     },
     "execution_count": 155,
     "metadata": {},
     "output_type": "execute_result"
    }
   ],
   "source": [
    "augmented_traindf['sentiment'].value_counts()"
   ]
  },
  {
   "cell_type": "code",
   "execution_count": 156,
   "metadata": {},
   "outputs": [],
   "source": [
    "df_sentiment_count1=augmented_traindf['sentiment'].value_counts()"
   ]
  },
  {
   "cell_type": "code",
   "execution_count": 157,
   "metadata": {},
   "outputs": [
    {
     "data": {
      "text/plain": [
       "Text(0.5, 1.0, 'Count of Sentiments')"
      ]
     },
     "execution_count": 157,
     "metadata": {},
     "output_type": "execute_result"
    },
    {
     "data": {
      "image/png": "[encoded data removed]",
      "text/plain": [
       "<Figure size 288x288 with 1 Axes>"
      ]
     },
     "metadata": {},
     "output_type": "display_data"
    }
   ],
   "source": [
    "#Augmented Sampling:\n",
    "Index = [1,2,3]\n",
    "sns.set()\n",
    "plt.bar(Index,df_sentiment_count1)\n",
    "plt.xticks(Index,['negative','neutral','positive'],rotation=45)\n",
    "plt.ylabel('Sentiment Count')\n",
    "plt.xlabel('Type of Sentiment')\n",
    "plt.title('Count of Sentiments')"
   ]
  },
  {
   "cell_type": "code",
   "execution_count": 158,
   "metadata": {},
   "outputs": [
    {
     "data": {
      "text/html": [
       "<div>\n",
       "<style scoped>\n",
       "    .dataframe tbody tr th:only-of-type {\n",
       "        vertical-align: middle;\n",
       "    }\n",
       "\n",
       "    .dataframe tbody tr th {\n",
       "        vertical-align: top;\n",
       "    }\n",
       "\n",
       "    .dataframe thead th {\n",
       "        text-align: right;\n",
       "    }\n",
       "</style>\n",
       "<table border=\"1\" class=\"dataframe\">\n",
       "  <thead>\n",
       "    <tr style=\"text-align: right;\">\n",
       "      <th></th>\n",
       "      <th>processed_text</th>\n",
       "      <th>sentiment</th>\n",
       "    </tr>\n",
       "  </thead>\n",
       "  <tbody>\n",
       "    <tr>\n",
       "      <td>0</td>\n",
       "      <td>usairways and after six hour even the gate age...</td>\n",
       "      <td>-1</td>\n",
       "    </tr>\n",
       "    <tr>\n",
       "      <td>0</td>\n",
       "      <td>usairways americanair how is it possible that ...</td>\n",
       "      <td>-1</td>\n",
       "    </tr>\n",
       "    <tr>\n",
       "      <td>0</td>\n",
       "      <td>united please help left my ipad air on my flig...</td>\n",
       "      <td>0</td>\n",
       "    </tr>\n",
       "    <tr>\n",
       "      <td>0</td>\n",
       "      <td>united please assistant leave my ipad air on m...</td>\n",
       "      <td>0</td>\n",
       "    </tr>\n",
       "    <tr>\n",
       "      <td>0</td>\n",
       "      <td>united please service left my ipad atmosphere ...</td>\n",
       "      <td>0</td>\n",
       "    </tr>\n",
       "    <tr>\n",
       "      <td>...</td>\n",
       "      <td>...</td>\n",
       "      <td>...</td>\n",
       "    </tr>\n",
       "    <tr>\n",
       "      <td>0</td>\n",
       "      <td>united i just sent an email to customer care t...</td>\n",
       "      <td>-1</td>\n",
       "    </tr>\n",
       "    <tr>\n",
       "      <td>0</td>\n",
       "      <td>united addair we desire you dont miss your ass...</td>\n",
       "      <td>0</td>\n",
       "    </tr>\n",
       "    <tr>\n",
       "      <td>0</td>\n",
       "      <td>united addair we trust you dont miss your asso...</td>\n",
       "      <td>0</td>\n",
       "    </tr>\n",
       "    <tr>\n",
       "      <td>0</td>\n",
       "      <td>joined addair we hope you dont miss your conne...</td>\n",
       "      <td>0</td>\n",
       "    </tr>\n",
       "    <tr>\n",
       "      <td>0</td>\n",
       "      <td>americanair bought a ticket on southwestair af...</td>\n",
       "      <td>-1</td>\n",
       "    </tr>\n",
       "  </tbody>\n",
       "</table>\n",
       "<p>22156 rows × 2 columns</p>\n",
       "</div>"
      ],
      "text/plain": [
       "                                       processed_text sentiment\n",
       "0   usairways and after six hour even the gate age...        -1\n",
       "0   usairways americanair how is it possible that ...        -1\n",
       "0   united please help left my ipad air on my flig...         0\n",
       "0   united please assistant leave my ipad air on m...         0\n",
       "0   united please service left my ipad atmosphere ...         0\n",
       "..                                                ...       ...\n",
       "0   united i just sent an email to customer care t...        -1\n",
       "0   united addair we desire you dont miss your ass...         0\n",
       "0   united addair we trust you dont miss your asso...         0\n",
       "0   joined addair we hope you dont miss your conne...         0\n",
       "0   americanair bought a ticket on southwestair af...        -1\n",
       "\n",
       "[22156 rows x 2 columns]"
      ]
     },
     "execution_count": 158,
     "metadata": {},
     "output_type": "execute_result"
    }
   ],
   "source": [
    "augmented_traindf"
   ]
  },
  {
   "cell_type": "code",
   "execution_count": 159,
   "metadata": {},
   "outputs": [
    {
     "data": {
      "text/html": [
       "<div>\n",
       "<style scoped>\n",
       "    .dataframe tbody tr th:only-of-type {\n",
       "        vertical-align: middle;\n",
       "    }\n",
       "\n",
       "    .dataframe tbody tr th {\n",
       "        vertical-align: top;\n",
       "    }\n",
       "\n",
       "    .dataframe thead th {\n",
       "        text-align: right;\n",
       "    }\n",
       "</style>\n",
       "<table border=\"1\" class=\"dataframe\">\n",
       "  <thead>\n",
       "    <tr style=\"text-align: right;\">\n",
       "      <th></th>\n",
       "      <th>processed_text</th>\n",
       "      <th>sentiment</th>\n",
       "    </tr>\n",
       "  </thead>\n",
       "  <tbody>\n",
       "    <tr>\n",
       "      <td>3041</td>\n",
       "      <td>united hour delay misplaced bag poor communica...</td>\n",
       "      <td>-1</td>\n",
       "    </tr>\n",
       "    <tr>\n",
       "      <td>4221</td>\n",
       "      <td>united you better hold my flight to tucson jus...</td>\n",
       "      <td>-1</td>\n",
       "    </tr>\n",
       "    <tr>\n",
       "      <td>9246</td>\n",
       "      <td>usairways ill check it out when i get to the a...</td>\n",
       "      <td>1</td>\n",
       "    </tr>\n",
       "    <tr>\n",
       "      <td>10375</td>\n",
       "      <td>usairways need seat assignments for one leg of...</td>\n",
       "      <td>0</td>\n",
       "    </tr>\n",
       "    <tr>\n",
       "      <td>310</td>\n",
       "      <td>virginamerica missed my flight how does standb...</td>\n",
       "      <td>0</td>\n",
       "    </tr>\n",
       "    <tr>\n",
       "      <td>...</td>\n",
       "      <td>...</td>\n",
       "      <td>...</td>\n",
       "    </tr>\n",
       "    <tr>\n",
       "      <td>13904</td>\n",
       "      <td>americanair looks like i have best i can hope ...</td>\n",
       "      <td>-1</td>\n",
       "    </tr>\n",
       "    <tr>\n",
       "      <td>3355</td>\n",
       "      <td>united of the airplane otherwise they would ca...</td>\n",
       "      <td>-1</td>\n",
       "    </tr>\n",
       "    <tr>\n",
       "      <td>1031</td>\n",
       "      <td>united change made in just over hours for some...</td>\n",
       "      <td>-1</td>\n",
       "    </tr>\n",
       "    <tr>\n",
       "      <td>14316</td>\n",
       "      <td>americanair not sure why i would bother when t...</td>\n",
       "      <td>-1</td>\n",
       "    </tr>\n",
       "    <tr>\n",
       "      <td>2087</td>\n",
       "      <td>united min hold has now progressed to over an ...</td>\n",
       "      <td>-1</td>\n",
       "    </tr>\n",
       "  </tbody>\n",
       "</table>\n",
       "<p>2899 rows × 2 columns</p>\n",
       "</div>"
      ],
      "text/plain": [
       "                                          processed_text sentiment\n",
       "3041   united hour delay misplaced bag poor communica...        -1\n",
       "4221   united you better hold my flight to tucson jus...        -1\n",
       "9246   usairways ill check it out when i get to the a...         1\n",
       "10375  usairways need seat assignments for one leg of...         0\n",
       "310    virginamerica missed my flight how does standb...         0\n",
       "...                                                  ...       ...\n",
       "13904  americanair looks like i have best i can hope ...        -1\n",
       "3355   united of the airplane otherwise they would ca...        -1\n",
       "1031   united change made in just over hours for some...        -1\n",
       "14316  americanair not sure why i would bother when t...        -1\n",
       "2087   united min hold has now progressed to over an ...        -1\n",
       "\n",
       "[2899 rows x 2 columns]"
      ]
     },
     "execution_count": 159,
     "metadata": {},
     "output_type": "execute_result"
    }
   ],
   "source": [
    "data_test"
   ]
  },
  {
   "cell_type": "code",
   "execution_count": 160,
   "metadata": {},
   "outputs": [],
   "source": [
    "#training data: augmented_traindf\n",
    "#Testing data: data_test\n",
    "#tfidfconverter => TF-IDF done on entire dataset"
   ]
  },
  {
   "cell_type": "code",
   "execution_count": 161,
   "metadata": {},
   "outputs": [],
   "source": [
    "X_train = augmented_traindf['processed_text']\n",
    "y_train = augmented_traindf['sentiment']\n",
    "X_test = data_test['processed_text']\n",
    "y_test = data_test['sentiment']"
   ]
  },
  {
   "cell_type": "code",
   "execution_count": 162,
   "metadata": {},
   "outputs": [],
   "source": [
    "#tfidfconverter.fit(features_data) already done initially\n",
    "\n",
    "# Transforming X_train & X_test data to a counter\n",
    "X_train_tfidf = tfidfconverter.transform(X_train)\n",
    "X_test_tfidf = tfidfconverter.transform(X_test)"
   ]
  },
  {
   "cell_type": "code",
   "execution_count": 163,
   "metadata": {},
   "outputs": [
    {
     "data": {
      "text/plain": [
       "(22156, 4647)"
      ]
     },
     "execution_count": 163,
     "metadata": {},
     "output_type": "execute_result"
    }
   ],
   "source": [
    "X_train_tfidf.shape"
   ]
  },
  {
   "cell_type": "code",
   "execution_count": 164,
   "metadata": {},
   "outputs": [
    {
     "data": {
      "text/plain": [
       "(2899, 4647)"
      ]
     },
     "execution_count": 164,
     "metadata": {},
     "output_type": "execute_result"
    }
   ],
   "source": [
    "X_test_tfidf.shape"
   ]
  },
  {
   "cell_type": "markdown",
   "metadata": {},
   "source": [
    "We can see that the dimensions of the features in train & test are matching for number of columns in the data"
   ]
  },
  {
   "cell_type": "code",
   "execution_count": 165,
   "metadata": {},
   "outputs": [
    {
     "name": "stderr",
     "output_type": "stream",
     "text": [
      "[Parallel(n_jobs=-1)]: Using backend ThreadingBackend with 8 concurrent workers.\n",
      "[Parallel(n_jobs=-1)]: Done  34 tasks      | elapsed:    2.6s\n",
      "[Parallel(n_jobs=-1)]: Done 184 tasks      | elapsed:   12.2s\n",
      "[Parallel(n_jobs=-1)]: Done 400 out of 400 | elapsed:   26.9s finished\n"
     ]
    },
    {
     "data": {
      "text/plain": [
       "RandomForestClassifier(bootstrap=True, class_weight=None, criterion='gini',\n",
       "                       max_depth=None, max_features='auto', max_leaf_nodes=None,\n",
       "                       min_impurity_decrease=0.0, min_impurity_split=None,\n",
       "                       min_samples_leaf=1, min_samples_split=2,\n",
       "                       min_weight_fraction_leaf=0.0, n_estimators=400,\n",
       "                       n_jobs=-1, oob_score=False, random_state=None,\n",
       "                       verbose=True, warm_start=False)"
      ]
     },
     "execution_count": 165,
     "metadata": {},
     "output_type": "execute_result"
    }
   ],
   "source": [
    "text_classifier = RandomForestClassifier(n_estimators=400,n_jobs=-1,verbose=True)\n",
    "text_classifier.fit(X_train_tfidf, y_train) #Using X & y from tfidfconverter function for training data only"
   ]
  },
  {
   "cell_type": "code",
   "execution_count": 166,
   "metadata": {},
   "outputs": [],
   "source": [
    "#Model evaluation"
   ]
  },
  {
   "cell_type": "code",
   "execution_count": 167,
   "metadata": {},
   "outputs": [
    {
     "name": "stderr",
     "output_type": "stream",
     "text": [
      "[Parallel(n_jobs=8)]: Using backend ThreadingBackend with 8 concurrent workers.\n",
      "[Parallel(n_jobs=8)]: Done  34 tasks      | elapsed:    0.0s\n",
      "[Parallel(n_jobs=8)]: Done 184 tasks      | elapsed:    0.0s\n",
      "[Parallel(n_jobs=8)]: Done 400 out of 400 | elapsed:    0.1s finished\n"
     ]
    },
    {
     "name": "stdout",
     "output_type": "stream",
     "text": [
      "Classification Report :\n",
      "               precision    recall  f1-score   support\n",
      "\n",
      "          -1       0.84      0.79      0.81      1808\n",
      "           0       0.46      0.57      0.51       610\n",
      "           1       0.66      0.62      0.64       481\n",
      "\n",
      "    accuracy                           0.71      2899\n",
      "   macro avg       0.65      0.66      0.65      2899\n",
      "weighted avg       0.73      0.71      0.72      2899\n",
      " \n",
      " Model Acurracy = 0.7126595377716454\n",
      "\n",
      " Confusion Matrix\n"
     ]
    },
    {
     "data": {
      "text/plain": [
       "<matplotlib.axes._subplots.AxesSubplot at 0x19d3650be88>"
      ]
     },
     "execution_count": 167,
     "metadata": {},
     "output_type": "execute_result"
    },
    {
     "data": {
      "image/png": "[encoded data removed]",
      "text/plain": [
       "<Figure size 288x288 with 2 Axes>"
      ]
     },
     "metadata": {},
     "output_type": "display_data"
    }
   ],
   "source": [
    "# model testing\n",
    "predictions = text_classifier.predict(X_test_tfidf)\n",
    "print(\"Classification Report :\\n {} \\n Model Acurracy = {}\".format(classification_report(y_test,predictions),\n",
    "                                                                 accuracy_score(y_test, predictions)))\n",
    "# confusion matrix\n",
    "print(\"\\n Confusion Matrix\")\n",
    "df_cm = pd.DataFrame(confusion_matrix(y_test, predictions),['negative','neutral','positive'],['negative','neutral','positive'])\n",
    "sns.set(font_scale=1.2)#for label size\n",
    "sns.heatmap(df_cm, annot=True,annot_kws={\"size\": 20})"
   ]
  },
  {
   "cell_type": "raw",
   "metadata": {},
   "source": [
    "X_train = augmented_traindf['processed_text']\n",
    "y_train = augmented_traindf['sentiment']\n",
    "X_test = data_test['processed_text']\n",
    "y_test = data_test['sentiment']\n",
    "clean_df"
   ]
  },
  {
   "cell_type": "markdown",
   "metadata": {},
   "source": [
    "### Bernoulli Naive Bayes model:¶"
   ]
  },
  {
   "cell_type": "code",
   "execution_count": 168,
   "metadata": {},
   "outputs": [],
   "source": [
    "X_train_NB = augmented_traindf['processed_text']\n",
    "y_train_NB = augmented_traindf['sentiment']\n",
    "X_test_NB =  data_test['processed_text']\n",
    "y_test_NB = data_test['sentiment']"
   ]
  },
  {
   "cell_type": "code",
   "execution_count": 169,
   "metadata": {},
   "outputs": [
    {
     "data": {
      "text/plain": [
       "CountVectorizer(analyzer='word', binary=True, decode_error='strict',\n",
       "                dtype=<class 'numpy.int64'>, encoding='utf-8', input='content',\n",
       "                lowercase=True, max_df=1.0, max_features=None, min_df=1,\n",
       "                ngram_range=(1, 1), preprocessor=None, stop_words=None,\n",
       "                strip_accents=None, token_pattern='(?u)\\\\b\\\\w\\\\w+\\\\b',\n",
       "                tokenizer=None, vocabulary=None)"
      ]
     },
     "execution_count": 169,
     "metadata": {},
     "output_type": "execute_result"
    }
   ],
   "source": [
    "#Binary Representation of the Input features\n",
    "binary_vectorizer = CountVectorizer(binary=True)\n",
    "binary_vectorizer.fit(X_train_NB)"
   ]
  },
  {
   "cell_type": "code",
   "execution_count": 170,
   "metadata": {},
   "outputs": [],
   "source": [
    "#To Transform our input features raw data using the vectorizer into a clean matrix (sparse matrix)\n",
    "X_train_binary = binary_vectorizer.transform(X_train_NB)\n",
    "X_test_binary = binary_vectorizer.transform(X_test_NB)"
   ]
  },
  {
   "cell_type": "code",
   "execution_count": 171,
   "metadata": {},
   "outputs": [
    {
     "data": {
      "text/plain": [
       "BernoulliNB(alpha=1.0, binarize=0.0, class_prior=None, fit_prior=True)"
      ]
     },
     "execution_count": 171,
     "metadata": {},
     "output_type": "execute_result"
    }
   ],
   "source": [
    "from sklearn.naive_bayes import BernoulliNB\n",
    "\n",
    "#Bernoulli Naive Bayes Model Training:\n",
    "model_nb = BernoulliNB()\n",
    "model_nb.fit(X_train_binary, y_train_NB)"
   ]
  },
  {
   "cell_type": "code",
   "execution_count": 172,
   "metadata": {},
   "outputs": [
    {
     "name": "stdout",
     "output_type": "stream",
     "text": [
      "Accuracy of Bernoulli Naive Bayes Model = 77.337 \n"
     ]
    }
   ],
   "source": [
    "#Predictig the accuracy on test dataset:\n",
    "\n",
    "from sklearn import metrics\n",
    "print (\"Accuracy of Bernoulli Naive Bayes Model = %.3f \" % (metrics.accuracy_score(model_nb.predict(X_test_binary),y_test_NB)*100))"
   ]
  },
  {
   "cell_type": "markdown",
   "metadata": {},
   "source": [
    "### Using Non-Binary Count Vectorizer:"
   ]
  },
  {
   "cell_type": "code",
   "execution_count": 173,
   "metadata": {},
   "outputs": [
    {
     "data": {
      "text/plain": [
       "LogisticRegression(C=1.0, class_weight=None, dual=False, fit_intercept=True,\n",
       "                   intercept_scaling=1, l1_ratio=None, max_iter=100,\n",
       "                   multi_class='auto', n_jobs=None, penalty='l2',\n",
       "                   random_state=None, solver='liblinear', tol=0.0001, verbose=0,\n",
       "                   warm_start=False)"
      ]
     },
     "execution_count": 173,
     "metadata": {},
     "output_type": "execute_result"
    }
   ],
   "source": [
    "# Fit a counter\n",
    "#CountVectorizer() is binary=False by default\n",
    "count_vectorizer = CountVectorizer()\n",
    "count_vectorizer.fit(X_train_NB)\n",
    "\n",
    "# Transform to counter\n",
    "X_train_counts = count_vectorizer.transform(X_train_NB)\n",
    "X_test_counts = count_vectorizer.transform(X_test_NB)\n",
    "\n",
    "# Model Fitting:\n",
    "model_counts = LogisticRegression(solver='liblinear', multi_class='auto')\n",
    "model_counts.fit(X_train_counts, y_train_NB)"
   ]
  },
  {
   "cell_type": "code",
   "execution_count": 174,
   "metadata": {},
   "outputs": [
    {
     "name": "stdout",
     "output_type": "stream",
     "text": [
      "Test Accuracy of the Non-Binary Count Vectorizer Model is = 77.785\n"
     ]
    }
   ],
   "source": [
    "print ( \"Test Accuracy of the Non-Binary Count Vectorizer Model is = %.3f\" % (metrics.accuracy_score(model_counts.predict(X_test_counts),y_test_NB)*100))"
   ]
  },
  {
   "cell_type": "markdown",
   "metadata": {},
   "source": [
    "### Classification using Deep learning techniques:  \n",
    "\n",
    "To train an embedding layer with Fully connected neural network"
   ]
  },
  {
   "cell_type": "raw",
   "metadata": {},
   "source": [
    "X_train = augmented_traindf['processed_text']\n",
    "y_train = augmented_traindf['sentiment']\n",
    "X_test = data_test['processed_text']\n",
    "y_test = data_test['sentiment']\n",
    "clean_df"
   ]
  },
  {
   "cell_type": "code",
   "execution_count": 175,
   "metadata": {},
   "outputs": [],
   "source": [
    "#training data: augmented_traindf\n",
    "#Testing data: data_test\n",
    "#tfidfconverter => TF-IDF done on entire dataset"
   ]
  },
  {
   "cell_type": "code",
   "execution_count": 176,
   "metadata": {},
   "outputs": [],
   "source": [
    "features_data=clean_df['processed_text']"
   ]
  },
  {
   "cell_type": "code",
   "execution_count": 177,
   "metadata": {},
   "outputs": [],
   "source": [
    "training_data = augmented_traindf['processed_text']"
   ]
  },
  {
   "cell_type": "code",
   "execution_count": 178,
   "metadata": {},
   "outputs": [],
   "source": [
    "testing_data=data_test['processed_text']"
   ]
  },
  {
   "cell_type": "code",
   "execution_count": 179,
   "metadata": {},
   "outputs": [],
   "source": [
    "tk = Tokenizer()\n",
    "\n",
    "#fittting on entire data for just count only.\n",
    "tk.fit_on_texts(features_data) \n",
    "\n",
    "#Transforming texts to sequences for both training data and testing data:\n",
    "X_seq_train = tk.texts_to_sequences(training_data) #Balanced data through augmented_traindf\n",
    "X_seq_test = tk.texts_to_sequences(testing_data) #testing data without any augmentation!(not required) => Data Leakage\n",
    "\n",
    "#Performing padding to train & test data sets:\n",
    "X_pad_train = pad_sequences(X_seq_train, maxlen=100, padding='post')\n",
    "X_pad_test = pad_sequences(X_seq_test, maxlen=100, padding='post')\n",
    "\n",
    "#Converting output labels into values (one hot encoding of categorical output variables)\n",
    "ycat_train = pd.get_dummies(augmented_traindf['sentiment']).values\n",
    "ycat_test = pd.get_dummies(data_test['sentiment']).values"
   ]
  },
  {
   "cell_type": "code",
   "execution_count": 180,
   "metadata": {},
   "outputs": [
    {
     "name": "stdout",
     "output_type": "stream",
     "text": [
      "Model: \"sequential_2\"\n",
      "_________________________________________________________________\n",
      "Layer (type)                 Output Shape              Param #   \n",
      "=================================================================\n",
      "embedding_2 (Embedding)      (None, 100, 32)           426208    \n",
      "_________________________________________________________________\n",
      "flatten_2 (Flatten)          (None, 3200)              0         \n",
      "_________________________________________________________________\n",
      "dense_4 (Dense)              (None, 32)                102432    \n",
      "_________________________________________________________________\n",
      "dense_5 (Dense)              (None, 16)                528       \n",
      "_________________________________________________________________\n",
      "dense_6 (Dense)              (None, 3)                 51        \n",
      "=================================================================\n",
      "Total params: 529,219\n",
      "Trainable params: 529,219\n",
      "Non-trainable params: 0\n",
      "_________________________________________________________________\n"
     ]
    }
   ],
   "source": [
    "vocabulary_size = len(tk.word_counts.keys())+1\n",
    "max_words = 100\n",
    "embedding_size = 32\n",
    "model = Sequential()\n",
    "model.add(Embedding(vocabulary_size, embedding_size, input_length=max_words))\n",
    "model.add(Flatten())\n",
    "model.add(Dense(32, activation='sigmoid'))\n",
    "model.add(Dense(16, activation='sigmoid'))\n",
    "model.add(Dense(3, activation='softmax'))\n",
    "model.compile(loss='categorical_crossentropy', optimizer='rmsprop', metrics=['accuracy'])\n",
    "model.summary()"
   ]
  },
  {
   "cell_type": "code",
   "execution_count": 181,
   "metadata": {},
   "outputs": [
    {
     "name": "stdout",
     "output_type": "stream",
     "text": [
      "Train on 22156 samples, validate on 2899 samples\n",
      "Epoch 1/4\n",
      "22156/22156 [==============================] - 8s 362us/step - loss: 0.7999 - accuracy: 0.6347 - val_loss: 0.6556 - val_accuracy: 0.7440\n",
      "Epoch 2/4\n",
      "22156/22156 [==============================] - 8s 363us/step - loss: 0.4272 - accuracy: 0.8416 - val_loss: 0.5812 - val_accuracy: 0.7751\n",
      "Epoch 3/4\n",
      "22156/22156 [==============================] - 8s 354us/step - loss: 0.3249 - accuracy: 0.8822 - val_loss: 0.6277 - val_accuracy: 0.7682\n",
      "Epoch 4/4\n",
      "22156/22156 [==============================] - 8s 371us/step - loss: 0.2658 - accuracy: 0.9042 - val_loss: 0.6387 - val_accuracy: 0.7779\n"
     ]
    }
   ],
   "source": [
    "history=model.fit(X_pad_train,ycat_train,validation_data=(X_pad_test,ycat_test),batch_size=32,epochs=4,verbose=True)"
   ]
  },
  {
   "cell_type": "code",
   "execution_count": 182,
   "metadata": {},
   "outputs": [
    {
     "data": {
      "image/png": "[encoded data removed]",
      "text/plain": [
       "<Figure size 288x288 with 1 Axes>"
      ]
     },
     "metadata": {},
     "output_type": "display_data"
    }
   ],
   "source": [
    "# summarize history for accuracy\n",
    "plt.plot(history.history['accuracy'])\n",
    "plt.plot(history.history['val_accuracy'])\n",
    "plt.title('model accuracy')\n",
    "plt.ylabel('accuracy')\n",
    "plt.xlabel('epoch')\n",
    "plt.legend(['train', 'test'], loc='upper left')\n",
    "plt.show()\n"
   ]
  },
  {
   "cell_type": "code",
   "execution_count": 183,
   "metadata": {},
   "outputs": [
    {
     "name": "stdout",
     "output_type": "stream",
     "text": [
      "Classification Report :\n",
      "               precision    recall  f1-score   support\n",
      "\n",
      "    negative       0.83      0.90      0.86      1808\n",
      "     neutral       0.63      0.51      0.57       610\n",
      "    positive       0.72      0.66      0.69       481\n",
      "\n",
      "    accuracy                           0.78      2899\n",
      "   macro avg       0.73      0.69      0.70      2899\n",
      "weighted avg       0.77      0.78      0.77      2899\n",
      " \n",
      " Model Acurracy = 0.7778544325629527\n",
      "\n",
      " Confusion Matrix\n"
     ]
    },
    {
     "data": {
      "text/plain": [
       "<matplotlib.axes._subplots.AxesSubplot at 0x19d3395ce08>"
      ]
     },
     "execution_count": 183,
     "metadata": {},
     "output_type": "execute_result"
    },
    {
     "data": {
      "image/png": "[encoded data removed]",
      "text/plain": [
       "<Figure size 288x288 with 2 Axes>"
      ]
     },
     "metadata": {},
     "output_type": "display_data"
    }
   ],
   "source": [
    "# model testing\n",
    "predictions = [np.argmax(i) for i in model.predict(X_pad_test)]\n",
    "ycat_test=[np.argmax(i) for i in ycat_test]\n",
    "print(\"Classification Report :\\n {} \\n Model Acurracy = {}\".format(classification_report(ycat_test,predictions,\n",
    "                                                                                         target_names=['negative','neutral','positive']),\n",
    "                                                                 accuracy_score(ycat_test, predictions)))\n",
    "# confusion matrix\n",
    "print(\"\\n Confusion Matrix\")\n",
    "df_cm = pd.DataFrame(confusion_matrix(ycat_test, predictions),['negative','neutral','positive'],['negative','neutral','positive'])\n",
    "sns.set(font_scale=1.2)#for label size\n",
    "sns.heatmap(df_cm, annot=True,annot_kws={\"size\": 20})"
   ]
  },
  {
   "cell_type": "markdown",
   "metadata": {},
   "source": [
    "### End of Project"
   ]
  }
 ],
 "metadata": {
  "kernelspec": {
   "display_name": "Python 3",
   "language": "python",
   "name": "python3"
  },
  "language_info": {
   "codemirror_mode": {
    "name": "ipython",
    "version": 3
   },
   "file_extension": ".py",
   "mimetype": "text/x-python",
   "name": "python",
   "nbconvert_exporter": "python",
   "pygments_lexer": "ipython3",
   "version": "3.7.4"
  }
 },
 "nbformat": 4,
 "nbformat_minor": 2
}
